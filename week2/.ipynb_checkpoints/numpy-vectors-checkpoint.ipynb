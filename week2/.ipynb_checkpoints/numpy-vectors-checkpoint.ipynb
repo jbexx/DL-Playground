{
 "cells": [
  {
   "cell_type": "code",
   "execution_count": 1,
   "metadata": {},
   "outputs": [
    {
     "name": "stdout",
     "output_type": "stream",
     "text": [
      "[-0.0803229   0.73651479  0.29021506 -0.84968632 -1.83180244]\n"
     ]
    }
   ],
   "source": [
    "import numpy as np\n",
    "\n",
    "a = np.random.randn(5)\n",
    "# this will create a 5 random gaussian variables in an array\n",
    "\n",
    "print(a)"
   ]
  },
  {
   "cell_type": "code",
   "execution_count": 2,
   "metadata": {},
   "outputs": [
    {
     "name": "stdout",
     "output_type": "stream",
     "text": [
      "(5,)\n"
     ]
    }
   ],
   "source": [
    "print(a.shape)\n",
    "# this is called a rank 1 array in python.  It is neither a row vector nor a column vector.  avoid these"
   ]
  },
  {
   "cell_type": "code",
   "execution_count": 3,
   "metadata": {},
   "outputs": [
    {
     "name": "stdout",
     "output_type": "stream",
     "text": [
      "[-0.0803229   0.73651479  0.29021506 -0.84968632 -1.83180244]\n"
     ]
    }
   ],
   "source": [
    "print(a.T)"
   ]
  },
  {
   "cell_type": "code",
   "execution_count": 4,
   "metadata": {},
   "outputs": [
    {
     "name": "stdout",
     "output_type": "stream",
     "text": [
      "4.7105976157341125\n"
     ]
    }
   ],
   "source": [
    "print(np.dot(a,a.T))\n"
   ]
  },
  {
   "cell_type": "code",
   "execution_count": 6,
   "metadata": {},
   "outputs": [
    {
     "name": "stdout",
     "output_type": "stream",
     "text": [
      "[[-0.16641406]\n",
      " [-1.73112829]\n",
      " [ 1.82756588]\n",
      " [ 0.85575508]\n",
      " [ 0.77512209]]\n"
     ]
    }
   ],
   "source": [
    "a = np.random.randn(5,1)\n",
    "print(a)\n",
    "# this commits a to be a 5,1 column vector\n",
    "# where previously a nd a transpose looked the same, it becomes now a transpose, now a transpose is a row vector"
   ]
  },
  {
   "cell_type": "code",
   "execution_count": 7,
   "metadata": {},
   "outputs": [
    {
     "name": "stdout",
     "output_type": "stream",
     "text": [
      "[[-0.16641406 -1.73112829  1.82756588  0.85575508  0.77512209]]\n"
     ]
    }
   ],
   "source": [
    "print(a.T)"
   ]
  },
  {
   "cell_type": "code",
   "execution_count": 8,
   "metadata": {},
   "outputs": [
    {
     "name": "stdout",
     "output_type": "stream",
     "text": [
      "[[ 0.02769364  0.28808409 -0.30413266 -0.14240968 -0.12899121]\n",
      " [ 0.28808409  2.99680515 -3.16375099 -1.48142182 -1.34183577]\n",
      " [-0.30413266 -3.16375099  3.33999704  1.56394878  1.41658668]\n",
      " [-0.14240968 -1.48142182  1.56394878  0.73231675  0.66331466]\n",
      " [-0.12899121 -1.34183577  1.41658668  0.66331466  0.60081425]]\n"
     ]
    }
   ],
   "source": [
    "print(np.dot(a,a.T))"
   ]
  }
 ],
 "metadata": {
  "kernelspec": {
   "display_name": "Python 3",
   "language": "python",
   "name": "python3"
  },
  "language_info": {
   "codemirror_mode": {
    "name": "ipython",
    "version": 3
   },
   "file_extension": ".py",
   "mimetype": "text/x-python",
   "name": "python",
   "nbconvert_exporter": "python",
   "pygments_lexer": "ipython3",
   "version": "3.7.3"
  }
 },
 "nbformat": 4,
 "nbformat_minor": 2
}
